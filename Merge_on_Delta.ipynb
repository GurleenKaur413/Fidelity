{
 "cells": [
  {
   "cell_type": "code",
   "execution_count": 0,
   "metadata": {
    "application/vnd.databricks.v1+cell": {
     "cellMetadata": {
      "byteLimit": 2048000,
      "rowLimit": 10000
     },
     "inputWidgets": {},
     "nuid": "418e76b0-f7fd-4807-ad2b-419c8ffe89b5",
     "showTitle": false,
     "tableResultSettingsMap": {},
     "title": ""
    }
   },
   "outputs": [
    {
     "output_type": "stream",
     "name": "stdout",
     "output_type": "stream",
     "text": [
      "+-----------+-------------------+-------------+\n|customer_id|              email|         city|\n+-----------+-------------------+-------------+\n|          2|bob_new@example.com|San Francisco|\n|          3|charlie@example.com|      Chicago|\n+-----------+-------------------+-------------+\n\n"
     ]
    },
    {
     "output_type": "display_data",
     "data": {
      "text/html": [
       "<style scoped>\n",
       "  .table-result-container {\n",
       "    max-height: 300px;\n",
       "    overflow: auto;\n",
       "  }\n",
       "  table, th, td {\n",
       "    border: 1px solid black;\n",
       "    border-collapse: collapse;\n",
       "  }\n",
       "  th, td {\n",
       "    padding: 5px;\n",
       "  }\n",
       "  th {\n",
       "    text-align: left;\n",
       "  }\n",
       "</style><div class='table-result-container'><table class='table-result'><thead style='background-color: white'><tr><th>CUSTOMERID</th><th>CUSTOMERNAME</th><th>EMAIL</th><th>CITY</th><th>COUNTRY</th><th>TERRITORY</th><th>CONTACTFIRSTNAME</th><th>CONTACTLASTNAME</th></tr></thead><tbody><tr><td>1</td><td>Land of Toys Inc.</td><td>gladys.rim@rim.org</td><td>NYC</td><td>USA</td><td>NA</td><td>James</td><td>Butt</td></tr><tr><td>4</td><td>Toys4GrownUps.com</td><td>bette_nicka@cox.net</td><td>Pasadena</td><td>USA</td><td>NA</td><td>Lenna</td><td>Paprocki</td></tr><tr><td>5</td><td>Corporate Gift Ideas Co.</td><td>vinouye@aol.com</td><td>San Francisco</td><td>USA</td><td>NA</td><td>Donette</td><td>Foller</td></tr><tr><td>6</td><td>Technics Stores Inc.</td><td>gladys.rim@rim.org</td><td>Burlingame</td><td>USA</td><td>NA</td><td>Simona</td><td>Morasca</td></tr><tr><td>7</td><td>Daedalus Designs Imports</td><td>yuki_whobrey@aol.com</td><td>Lille</td><td>France</td><td>EMEA</td><td>Mitsue</td><td>Tollner</td></tr><tr><td>8</td><td>Herkku Gifts</td><td>fletcher.flosi@yahoo.com</td><td>Bergen</td><td>Norway</td><td>EMEA</td><td>Leota</td><td>Dilliard</td></tr><tr><td>9</td><td>Mini Wheels Co.</td><td>bette_nicka@cox.net</td><td>San Francisco</td><td>USA</td><td>NA</td><td>Sage</td><td>Wieser</td></tr><tr><td>10</td><td>Auto Canal Petit</td><td>vinouye@aol.com</td><td>Paris</td><td>France</td><td>EMEA</td><td>Kris</td><td>Marrier</td></tr><tr><td>12</td><td>Vitachrome Inc.</td><td>yuki_whobrey@aol.com</td><td>NYC</td><td>USA</td><td>NA</td><td>Abel</td><td>Maclead</td></tr><tr><td>13</td><td>Tekni Collectables Inc.</td><td>fletcher.flosi@yahoo.com</td><td>Newark</td><td>USA</td><td>NA</td><td>Kiley</td><td>Caldarera</td></tr><tr><td>14</td><td>Gift Depot Inc.</td><td>bette_nicka@cox.net</td><td>Bridgewater</td><td>USA</td><td>NA</td><td>Graciela</td><td>Ruta</td></tr><tr><td>15</td><td>La Rochelle Gifts</td><td>vinouye@aol.com</td><td>Nantes</td><td>France</td><td>EMEA</td><td>Cammy</td><td>Albares</td></tr><tr><td>16</td><td>Marta's Replicas Co.</td><td>gladys.rim@rim.org</td><td>Cambridge</td><td>USA</td><td>NA</td><td>Mattie</td><td>Poquette</td></tr><tr><td>17</td><td>Toys of Finland Co.</td><td>yuki_whobrey@aol.com</td><td>Helsinki</td><td>Finland</td><td>EMEA</td><td>Meaghan</td><td>Garufi</td></tr><tr><td>18</td><td>Baane Mini Imports</td><td>fletcher.flosi@yahoo.com</td><td>Stavern</td><td>Norway</td><td>EMEA</td><td>Gladys</td><td>Rim</td></tr><tr><td>19</td><td>Diecast Classics Inc.</td><td>bette_nicka@cox.net</td><td>Allentown</td><td>USA</td><td>NA</td><td>Yuki</td><td>Whobrey</td></tr><tr><td>20</td><td>Land of Toys Inc.</td><td>vinouye@aol.com</td><td>NYC</td><td>USA</td><td>NA</td><td>Fletcher</td><td>Flosi</td></tr><tr><td>21</td><td>Salzburg Collectables</td><td>bette_nicka@cox.net</td><td>Salzburg</td><td>Austria</td><td>EMEA</td><td>Bette</td><td>Nicka</td></tr><tr><td>23</td><td>La Rochelle Gifts</td><td>emerson.bowley@bowley.org</td><td>Nantes</td><td>France</td><td>EMEA</td><td>Willard</td><td>Kolmetz</td></tr><tr><td>24</td><td>FunGiftIdeas.com</td><td>bmalet@yahoo.com</td><td>New Bedford</td><td>USA</td><td>NA</td><td>Maryann</td><td>Royster</td></tr><tr><td>25</td><td>UK Collectables Ltd.</td><td>bbolognia@yahoo.com</td><td>Liverpool</td><td>UK</td><td>EMEA</td><td>Alisha</td><td>Slusarski</td></tr><tr><td>26</td><td>Euro Shopping Channel</td><td>lnestle@hotmail.com</td><td>Madrid</td><td>Spain</td><td>EMEA</td><td>Allene</td><td>Iturbide</td></tr><tr><td>27</td><td>Baane Mini Imports</td><td>sabra@uyetake.org</td><td>Stavern</td><td>Norway</td><td>EMEA</td><td>Chanel</td><td>Caudy</td></tr><tr><td>28</td><td>Volvo Model Replicas Co</td><td>mmastella@mastella.com</td><td>Lule</td><td>Sweden</td><td>EMEA</td><td>Ezekiel</td><td>Chui</td></tr><tr><td>29</td><td>Corrida Auto Replicas Ltd</td><td>wkusko@yahoo.com</td><td>Madrid</td><td>Spain</td><td>EMEA</td><td>Willow</td><td>Kusko</td></tr><tr><td>30</td><td>Technics Stores Inc.</td><td>emerson.bowley@bowley.org</td><td>Burlingame</td><td>USA</td><td>NA</td><td>Bernardo</td><td>Figeroa</td></tr><tr><td>32</td><td>Classic Legends Inc.</td><td>bbolognia@yahoo.com</td><td>NYC</td><td>USA</td><td>NA</td><td>Francine</td><td>Vocelka</td></tr><tr><td>34</td><td>Classic Gift Ideas Inc</td><td>sabra@uyetake.org</td><td>Philadelphia</td><td>USA</td><td>NA</td><td>Albina</td><td>Glick</td></tr><tr><td>35</td><td>Saveley & Henriot Co.</td><td>mmastella@mastella.com</td><td>Lyon</td><td>France</td><td>EMEA</td><td>Alishia</td><td>Sergi</td></tr><tr><td>36</td><td>Canadian Gift Exchange Network</td><td>emerson.bowley@bowley.org</td><td>Vancouver</td><td>Canada</td><td>NA</td><td>Solange</td><td>Shinko</td></tr><tr><td>37</td><td>West Coast Collectables Co.</td><td>bmalet@yahoo.com</td><td>Burbank</td><td>USA</td><td>NA</td><td>Jose</td><td>Stockham</td></tr><tr><td>38</td><td>Cambridge Collectables Co.</td><td>bbolognia@yahoo.com</td><td>Cambridge</td><td>USA</td><td>NA</td><td>Rozella</td><td>Ostrosky</td></tr><tr><td>39</td><td>Super Scale Inc.</td><td>lnestle@hotmail.com</td><td>New Haven</td><td>USA</td><td>NA</td><td>Valentine</td><td>Gillian</td></tr><tr><td>42</td><td>Amica Models & Co.</td><td>doldroyd@aol.com</td><td>Torino</td><td>Italy</td><td>EMEA</td><td>Dyan</td><td>Oldroyd</td></tr><tr><td>43</td><td>Scandinavian Gift Ideas</td><td>roxane@hotmail.com</td><td>Boras</td><td>Sweden</td><td>EMEA</td><td>Roxane</td><td>Campain</td></tr><tr><td>44</td><td>Auto Assoc. & Cie.</td><td>lperin@perin.org</td><td>Versailles</td><td>France</td><td>EMEA</td><td>Lavera</td><td>Perin</td></tr><tr><td>45</td><td>Mini Gifts Distributors Ltd.</td><td>erick.ferencz@aol.com</td><td>San Rafael</td><td>USA</td><td>NA</td><td>Erick</td><td>Ferencz</td></tr><tr><td>46</td><td>Online Diecast Creations Co.</td><td>emerson.bowley@bowley.org</td><td>Nashua</td><td>USA</td><td>NA</td><td>Fatima</td><td>Saylors</td></tr><tr><td>47</td><td>Mini Wheels Co.</td><td>bmalet@yahoo.com</td><td>San Francisco</td><td>USA</td><td>NA</td><td>Jina</td><td>Briddick</td></tr><tr><td>49</td><td>Mini Gifts Distributors Ltd.</td><td>lnestle@hotmail.com</td><td>San Rafael</td><td>USA</td><td>NA</td><td>Emerson</td><td>Bowley</td></tr><tr><td>50</td><td>Collectables For Less Inc.</td><td>sabra@uyetake.org</td><td>Brickhaven</td><td>USA</td><td>NA</td><td>Blair</td><td>Malet</td></tr><tr><td>51</td><td>Corporate Gift Ideas Co.</td><td>mmastella@mastella.com</td><td>San Francisco</td><td>USA</td><td>NA</td><td>Brock</td><td>Bolognia</td></tr><tr><td>53</td><td>Quebec Home Shopping Network</td><td>sabra@uyetake.org</td><td>Montreal</td><td>Canada</td><td>NA</td><td>Sabra</td><td>Uyetake</td></tr><tr><td>54</td><td>Euro Shopping Channel</td><td>mmastella@mastella.com</td><td>Madrid</td><td>Spain</td><td>EMEA</td><td>Marjory</td><td>Mastella</td></tr><tr><td>55</td><td>Land of Toys Inc.</td><td>lnestle@hotmail.com</td><td>NYC</td><td>USA</td><td>NA</td><td>Karl</td><td>Klonowski</td></tr><tr><td>57</td><td>Lyon Souveniers</td><td>mmastella@mastella.com</td><td>Paris</td><td>France</td><td>EMEA</td><td>Amber</td><td>Monarrez</td></tr><tr><td>58</td><td>Toys4GrownUps.com</td><td>lnestle@hotmail.com</td><td>Pasadena</td><td>USA</td><td>NA</td><td>Shenika</td><td>Seewald</td></tr><tr><td>59</td><td>Corporate Gift Ideas Co.</td><td>sabra@uyetake.org</td><td>San Francisco</td><td>USA</td><td>NA</td><td>Delmy</td><td>Ahle</td></tr><tr><td>60</td><td>Technics Stores Inc.</td><td>mmastella@mastella.com</td><td>Burlingame</td><td>USA</td><td>NA</td><td>Deeanna</td><td>Juhas</td></tr><tr><td>61</td><td>Daedalus Designs Imports</td><td>bpugh@aol.com</td><td>Lille</td><td>France</td><td>EMEA</td><td>Blondell</td><td>Pugh</td></tr><tr><td>62</td><td>Herkku Gifts</td><td>lnestle@hotmail.com</td><td>Bergen</td><td>Norway</td><td>EMEA</td><td>Jamal</td><td>Vanausdal</td></tr><tr><td>63</td><td>Mini Wheels Co.</td><td>sabra@uyetake.org</td><td>San Francisco</td><td>USA</td><td>NA</td><td>Cecily</td><td>Hollack</td></tr><tr><td>66</td><td>Motor Mint Distributors Inc.</td><td>sabra@uyetake.org</td><td>Philadelphia</td><td>USA</td><td>NA</td><td>Tawna</td><td>Buvens</td></tr><tr><td>67</td><td>Tekni Collectables Inc.</td><td>mmastella@mastella.com</td><td>Newark</td><td>USA</td><td>NA</td><td>Penney</td><td>Weight</td></tr><tr><td>68</td><td>Gift Depot Inc.</td><td>elly_morocco@gmail.com</td><td>Bridgewater</td><td>USA</td><td>NA</td><td>Elly</td><td>Morocco</td></tr><tr><td>69</td><td>La Rochelle Gifts</td><td>lnestle@hotmail.com</td><td>Nantes</td><td>France</td><td>EMEA</td><td>Ilene</td><td>Eroman</td></tr><tr><td>70</td><td>Marta's Replicas Co.</td><td>sabra@uyetake.org</td><td>Cambridge</td><td>USA</td><td>NA</td><td>Vallie</td><td>Mondella</td></tr><tr><td>71</td><td>Atelier graphique</td><td>mmastella@mastella.com</td><td>Nantes</td><td>France</td><td>EMEA</td><td>Kallie</td><td>Blackwood</td></tr><tr><td>72</td><td>Mini Classics</td><td>lnestle@hotmail.com</td><td>White Plains</td><td>USA</td><td>NA</td><td>Johnetta</td><td>Abdallah</td></tr><tr><td>73</td><td>Diecast Classics Inc.</td><td>sabra@uyetake.org</td><td>Allentown</td><td>USA</td><td>NA</td><td>Bobbye</td><td>Rhym</td></tr><tr><td>74</td><td>Land of Toys Inc.</td><td>mmastella@mastella.com</td><td>NYC</td><td>USA</td><td>NA</td><td>Micaela</td><td>Rhymes</td></tr><tr><td>78</td><td>FunGiftIdeas.com</td><td>mmastella@mastella.com</td><td>New Bedford</td><td>USA</td><td>NA</td><td>Delisa</td><td>Crupi</td></tr><tr><td>79</td><td>Auto Canal Petit</td><td>lnestle@hotmail.com</td><td>Paris</td><td>France</td><td>EMEA</td><td>Viva</td><td>Toelkes</td></tr><tr><td>80</td><td>Euro Shopping Channel</td><td>sabra@uyetake.org</td><td>Madrid</td><td>Spain</td><td>EMEA</td><td>Elza</td><td>Lipke</td></tr><tr><td>81</td><td>Land of Toys Inc.</td><td>mmastella@mastella.com</td><td>NYC</td><td>USA</td><td>NA</td><td>Devorah</td><td>Chickering</td></tr><tr><td>83</td><td>Lyon Souveniers</td><td>ahoneywell@honeywell.com</td><td>Paris</td><td>France</td><td>EMEA</td><td>Arlette</td><td>Honeywell</td></tr><tr><td>84</td><td>Toys4GrownUps.com</td><td>dominque.dickerson@dickerson.org</td><td>Pasadena</td><td>USA</td><td>NA</td><td>Dominque</td><td>Dickerson</td></tr><tr><td>85</td><td>Corporate Gift Ideas Co.</td><td>lnestle@hotmail.com</td><td>San Francisco</td><td>USA</td><td>NA</td><td>Lettie</td><td>Isenhower</td></tr><tr><td>86</td><td>Technics Stores Inc.</td><td>sabra@uyetake.org</td><td>Burlingame</td><td>USA</td><td>NA</td><td>Myra</td><td>Munns</td></tr><tr><td>87</td><td>Daedalus Designs Imports</td><td>mmastella@mastella.com</td><td>Lille</td><td>France</td><td>EMEA</td><td>Stephaine</td><td>Barfield</td></tr><tr><td>88</td><td>Herkku Gifts</td><td>lnestle@hotmail.com</td><td>Bergen</td><td>Norway</td><td>EMEA</td><td>Lai</td><td>Gato</td></tr><tr><td>89</td><td>Mini Wheels Co.</td><td>sabra@uyetake.org</td><td>San Francisco</td><td>USA</td><td>NA</td><td>Stephen</td><td>Emigh</td></tr><tr><td>92</td><td>Vitachrome Inc.</td><td>cory.gibes@gmail.com</td><td>NYC</td><td>USA</td><td>NA</td><td>Cory</td><td>Gibes</td></tr><tr><td>93</td><td>Tekni Collectables Inc.</td><td>lnestle@hotmail.com</td><td>Newark</td><td>USA</td><td>NA</td><td>Danica</td><td>Bruschke</td></tr><tr><td>94</td><td>Gift Depot Inc.</td><td>sabra@uyetake.org</td><td>Bridgewater</td><td>USA</td><td>NA</td><td>Wilda</td><td>Giguere</td></tr><tr><td>95</td><td>La Rochelle Gifts</td><td>mmastella@mastella.com</td><td>Nantes</td><td>France</td><td>EMEA</td><td>Elvera</td><td>Benimadho</td></tr><tr><td>96</td><td>Marta's Replicas Co.</td><td>lnestle@hotmail.com</td><td>Cambridge</td><td>USA</td><td>NA</td><td>Carma</td><td>Vanheusen</td></tr><tr><td>97</td><td>Toys of Finland Co.</td><td>sabra@uyetake.org</td><td>Helsinki</td><td>Finland</td><td>EMEA</td><td>Malinda</td><td>Hochard</td></tr><tr><td>98</td><td>Mini Classics</td><td>mmastella@mastella.com</td><td>White Plains</td><td>USA</td><td>NA</td><td>Natalie</td><td>Fern</td></tr><tr><td>99</td><td>Diecast Classics Inc.</td><td>lisha@centini.org</td><td>Allentown</td><td>USA</td><td>NA</td><td>Lisha</td><td>Centini</td></tr><tr><td>100</td><td>Land of Toys Inc.</td><td>arlene_klusman@gmail.com</td><td>NYC</td><td>USA</td><td>NA</td><td>Arlene</td><td>Klusman</td></tr><tr><td>2</td><td>Reims Collectables</td><td>bob_new@example.com</td><td>San Francisco</td><td>France</td><td>EMEA</td><td>Josephine</td><td>Darakjy</td></tr><tr><td>3</td><td>Lyon Souveniers</td><td>charlie@example.com</td><td>Chicago</td><td>France</td><td>EMEA</td><td>Art</td><td>Venere</td></tr></tbody></table></div>"
      ]
     },
     "metadata": {
      "application/vnd.databricks.v1+output": {
       "addedWidgets": {},
       "aggData": [],
       "aggError": "",
       "aggOverflow": false,
       "aggSchema": [],
       "aggSeriesLimitReached": false,
       "aggType": "",
       "arguments": {},
       "columnCustomDisplayInfos": {},
       "data": [
        [
         1,
         "Land of Toys Inc.",
         "gladys.rim@rim.org",
         "NYC",
         "USA",
         "NA",
         "James",
         "Butt"
        ],
        [
         4,
         "Toys4GrownUps.com",
         "bette_nicka@cox.net",
         "Pasadena",
         "USA",
         "NA",
         "Lenna",
         "Paprocki"
        ],
        [
         5,
         "Corporate Gift Ideas Co.",
         "vinouye@aol.com",
         "San Francisco",
         "USA",
         "NA",
         "Donette",
         "Foller"
        ],
        [
         6,
         "Technics Stores Inc.",
         "gladys.rim@rim.org",
         "Burlingame",
         "USA",
         "NA",
         "Simona",
         "Morasca"
        ],
        [
         7,
         "Daedalus Designs Imports",
         "yuki_whobrey@aol.com",
         "Lille",
         "France",
         "EMEA",
         "Mitsue",
         "Tollner"
        ],
        [
         8,
         "Herkku Gifts",
         "fletcher.flosi@yahoo.com",
         "Bergen",
         "Norway",
         "EMEA",
         "Leota",
         "Dilliard"
        ],
        [
         9,
         "Mini Wheels Co.",
         "bette_nicka@cox.net",
         "San Francisco",
         "USA",
         "NA",
         "Sage",
         "Wieser"
        ],
        [
         10,
         "Auto Canal Petit",
         "vinouye@aol.com",
         "Paris",
         "France",
         "EMEA",
         "Kris",
         "Marrier"
        ],
        [
         12,
         "Vitachrome Inc.",
         "yuki_whobrey@aol.com",
         "NYC",
         "USA",
         "NA",
         "Abel",
         "Maclead"
        ],
        [
         13,
         "Tekni Collectables Inc.",
         "fletcher.flosi@yahoo.com",
         "Newark",
         "USA",
         "NA",
         "Kiley",
         "Caldarera"
        ],
        [
         14,
         "Gift Depot Inc.",
         "bette_nicka@cox.net",
         "Bridgewater",
         "USA",
         "NA",
         "Graciela",
         "Ruta"
        ],
        [
         15,
         "La Rochelle Gifts",
         "vinouye@aol.com",
         "Nantes",
         "France",
         "EMEA",
         "Cammy",
         "Albares"
        ],
        [
         16,
         "Marta's Replicas Co.",
         "gladys.rim@rim.org",
         "Cambridge",
         "USA",
         "NA",
         "Mattie",
         "Poquette"
        ],
        [
         17,
         "Toys of Finland Co.",
         "yuki_whobrey@aol.com",
         "Helsinki",
         "Finland",
         "EMEA",
         "Meaghan",
         "Garufi"
        ],
        [
         18,
         "Baane Mini Imports",
         "fletcher.flosi@yahoo.com",
         "Stavern",
         "Norway",
         "EMEA",
         "Gladys",
         "Rim"
        ],
        [
         19,
         "Diecast Classics Inc.",
         "bette_nicka@cox.net",
         "Allentown",
         "USA",
         "NA",
         "Yuki",
         "Whobrey"
        ],
        [
         20,
         "Land of Toys Inc.",
         "vinouye@aol.com",
         "NYC",
         "USA",
         "NA",
         "Fletcher",
         "Flosi"
        ],
        [
         21,
         "Salzburg Collectables",
         "bette_nicka@cox.net",
         "Salzburg",
         "Austria",
         "EMEA",
         "Bette",
         "Nicka"
        ],
        [
         23,
         "La Rochelle Gifts",
         "emerson.bowley@bowley.org",
         "Nantes",
         "France",
         "EMEA",
         "Willard",
         "Kolmetz"
        ],
        [
         24,
         "FunGiftIdeas.com",
         "bmalet@yahoo.com",
         "New Bedford",
         "USA",
         "NA",
         "Maryann",
         "Royster"
        ],
        [
         25,
         "UK Collectables Ltd.",
         "bbolognia@yahoo.com",
         "Liverpool",
         "UK",
         "EMEA",
         "Alisha",
         "Slusarski"
        ],
        [
         26,
         "Euro Shopping Channel",
         "lnestle@hotmail.com",
         "Madrid",
         "Spain",
         "EMEA",
         "Allene",
         "Iturbide"
        ],
        [
         27,
         "Baane Mini Imports",
         "sabra@uyetake.org",
         "Stavern",
         "Norway",
         "EMEA",
         "Chanel",
         "Caudy"
        ],
        [
         28,
         "Volvo Model Replicas Co",
         "mmastella@mastella.com",
         "Lule",
         "Sweden",
         "EMEA",
         "Ezekiel",
         "Chui"
        ],
        [
         29,
         "Corrida Auto Replicas Ltd",
         "wkusko@yahoo.com",
         "Madrid",
         "Spain",
         "EMEA",
         "Willow",
         "Kusko"
        ],
        [
         30,
         "Technics Stores Inc.",
         "emerson.bowley@bowley.org",
         "Burlingame",
         "USA",
         "NA",
         "Bernardo",
         "Figeroa"
        ],
        [
         32,
         "Classic Legends Inc.",
         "bbolognia@yahoo.com",
         "NYC",
         "USA",
         "NA",
         "Francine",
         "Vocelka"
        ],
        [
         34,
         "Classic Gift Ideas Inc",
         "sabra@uyetake.org",
         "Philadelphia",
         "USA",
         "NA",
         "Albina",
         "Glick"
        ],
        [
         35,
         "Saveley & Henriot Co.",
         "mmastella@mastella.com",
         "Lyon",
         "France",
         "EMEA",
         "Alishia",
         "Sergi"
        ],
        [
         36,
         "Canadian Gift Exchange Network",
         "emerson.bowley@bowley.org",
         "Vancouver",
         "Canada",
         "NA",
         "Solange",
         "Shinko"
        ],
        [
         37,
         "West Coast Collectables Co.",
         "bmalet@yahoo.com",
         "Burbank",
         "USA",
         "NA",
         "Jose",
         "Stockham"
        ],
        [
         38,
         "Cambridge Collectables Co.",
         "bbolognia@yahoo.com",
         "Cambridge",
         "USA",
         "NA",
         "Rozella",
         "Ostrosky"
        ],
        [
         39,
         "Super Scale Inc.",
         "lnestle@hotmail.com",
         "New Haven",
         "USA",
         "NA",
         "Valentine",
         "Gillian"
        ],
        [
         42,
         "Amica Models & Co.",
         "doldroyd@aol.com",
         "Torino",
         "Italy",
         "EMEA",
         "Dyan",
         "Oldroyd"
        ],
        [
         43,
         "Scandinavian Gift Ideas",
         "roxane@hotmail.com",
         "Boras",
         "Sweden",
         "EMEA",
         "Roxane",
         "Campain"
        ],
        [
         44,
         "Auto Assoc. & Cie.",
         "lperin@perin.org",
         "Versailles",
         "France",
         "EMEA",
         "Lavera",
         "Perin"
        ],
        [
         45,
         "Mini Gifts Distributors Ltd.",
         "erick.ferencz@aol.com",
         "San Rafael",
         "USA",
         "NA",
         "Erick",
         "Ferencz"
        ],
        [
         46,
         "Online Diecast Creations Co.",
         "emerson.bowley@bowley.org",
         "Nashua",
         "USA",
         "NA",
         "Fatima",
         "Saylors"
        ],
        [
         47,
         "Mini Wheels Co.",
         "bmalet@yahoo.com",
         "San Francisco",
         "USA",
         "NA",
         "Jina",
         "Briddick"
        ],
        [
         49,
         "Mini Gifts Distributors Ltd.",
         "lnestle@hotmail.com",
         "San Rafael",
         "USA",
         "NA",
         "Emerson",
         "Bowley"
        ],
        [
         50,
         "Collectables For Less Inc.",
         "sabra@uyetake.org",
         "Brickhaven",
         "USA",
         "NA",
         "Blair",
         "Malet"
        ],
        [
         51,
         "Corporate Gift Ideas Co.",
         "mmastella@mastella.com",
         "San Francisco",
         "USA",
         "NA",
         "Brock",
         "Bolognia"
        ],
        [
         53,
         "Quebec Home Shopping Network",
         "sabra@uyetake.org",
         "Montreal",
         "Canada",
         "NA",
         "Sabra",
         "Uyetake"
        ],
        [
         54,
         "Euro Shopping Channel",
         "mmastella@mastella.com",
         "Madrid",
         "Spain",
         "EMEA",
         "Marjory",
         "Mastella"
        ],
        [
         55,
         "Land of Toys Inc.",
         "lnestle@hotmail.com",
         "NYC",
         "USA",
         "NA",
         "Karl",
         "Klonowski"
        ],
        [
         57,
         "Lyon Souveniers",
         "mmastella@mastella.com",
         "Paris",
         "France",
         "EMEA",
         "Amber",
         "Monarrez"
        ],
        [
         58,
         "Toys4GrownUps.com",
         "lnestle@hotmail.com",
         "Pasadena",
         "USA",
         "NA",
         "Shenika",
         "Seewald"
        ],
        [
         59,
         "Corporate Gift Ideas Co.",
         "sabra@uyetake.org",
         "San Francisco",
         "USA",
         "NA",
         "Delmy",
         "Ahle"
        ],
        [
         60,
         "Technics Stores Inc.",
         "mmastella@mastella.com",
         "Burlingame",
         "USA",
         "NA",
         "Deeanna",
         "Juhas"
        ],
        [
         61,
         "Daedalus Designs Imports",
         "bpugh@aol.com",
         "Lille",
         "France",
         "EMEA",
         "Blondell",
         "Pugh"
        ],
        [
         62,
         "Herkku Gifts",
         "lnestle@hotmail.com",
         "Bergen",
         "Norway",
         "EMEA",
         "Jamal",
         "Vanausdal"
        ],
        [
         63,
         "Mini Wheels Co.",
         "sabra@uyetake.org",
         "San Francisco",
         "USA",
         "NA",
         "Cecily",
         "Hollack"
        ],
        [
         66,
         "Motor Mint Distributors Inc.",
         "sabra@uyetake.org",
         "Philadelphia",
         "USA",
         "NA",
         "Tawna",
         "Buvens"
        ],
        [
         67,
         "Tekni Collectables Inc.",
         "mmastella@mastella.com",
         "Newark",
         "USA",
         "NA",
         "Penney",
         "Weight"
        ],
        [
         68,
         "Gift Depot Inc.",
         "elly_morocco@gmail.com",
         "Bridgewater",
         "USA",
         "NA",
         "Elly",
         "Morocco"
        ],
        [
         69,
         "La Rochelle Gifts",
         "lnestle@hotmail.com",
         "Nantes",
         "France",
         "EMEA",
         "Ilene",
         "Eroman"
        ],
        [
         70,
         "Marta's Replicas Co.",
         "sabra@uyetake.org",
         "Cambridge",
         "USA",
         "NA",
         "Vallie",
         "Mondella"
        ],
        [
         71,
         "Atelier graphique",
         "mmastella@mastella.com",
         "Nantes",
         "France",
         "EMEA",
         "Kallie",
         "Blackwood"
        ],
        [
         72,
         "Mini Classics",
         "lnestle@hotmail.com",
         "White Plains",
         "USA",
         "NA",
         "Johnetta",
         "Abdallah"
        ],
        [
         73,
         "Diecast Classics Inc.",
         "sabra@uyetake.org",
         "Allentown",
         "USA",
         "NA",
         "Bobbye",
         "Rhym"
        ],
        [
         74,
         "Land of Toys Inc.",
         "mmastella@mastella.com",
         "NYC",
         "USA",
         "NA",
         "Micaela",
         "Rhymes"
        ],
        [
         78,
         "FunGiftIdeas.com",
         "mmastella@mastella.com",
         "New Bedford",
         "USA",
         "NA",
         "Delisa",
         "Crupi"
        ],
        [
         79,
         "Auto Canal Petit",
         "lnestle@hotmail.com",
         "Paris",
         "France",
         "EMEA",
         "Viva",
         "Toelkes"
        ],
        [
         80,
         "Euro Shopping Channel",
         "sabra@uyetake.org",
         "Madrid",
         "Spain",
         "EMEA",
         "Elza",
         "Lipke"
        ],
        [
         81,
         "Land of Toys Inc.",
         "mmastella@mastella.com",
         "NYC",
         "USA",
         "NA",
         "Devorah",
         "Chickering"
        ],
        [
         83,
         "Lyon Souveniers",
         "ahoneywell@honeywell.com",
         "Paris",
         "France",
         "EMEA",
         "Arlette",
         "Honeywell"
        ],
        [
         84,
         "Toys4GrownUps.com",
         "dominque.dickerson@dickerson.org",
         "Pasadena",
         "USA",
         "NA",
         "Dominque",
         "Dickerson"
        ],
        [
         85,
         "Corporate Gift Ideas Co.",
         "lnestle@hotmail.com",
         "San Francisco",
         "USA",
         "NA",
         "Lettie",
         "Isenhower"
        ],
        [
         86,
         "Technics Stores Inc.",
         "sabra@uyetake.org",
         "Burlingame",
         "USA",
         "NA",
         "Myra",
         "Munns"
        ],
        [
         87,
         "Daedalus Designs Imports",
         "mmastella@mastella.com",
         "Lille",
         "France",
         "EMEA",
         "Stephaine",
         "Barfield"
        ],
        [
         88,
         "Herkku Gifts",
         "lnestle@hotmail.com",
         "Bergen",
         "Norway",
         "EMEA",
         "Lai",
         "Gato"
        ],
        [
         89,
         "Mini Wheels Co.",
         "sabra@uyetake.org",
         "San Francisco",
         "USA",
         "NA",
         "Stephen",
         "Emigh"
        ],
        [
         92,
         "Vitachrome Inc.",
         "cory.gibes@gmail.com",
         "NYC",
         "USA",
         "NA",
         "Cory",
         "Gibes"
        ],
        [
         93,
         "Tekni Collectables Inc.",
         "lnestle@hotmail.com",
         "Newark",
         "USA",
         "NA",
         "Danica",
         "Bruschke"
        ],
        [
         94,
         "Gift Depot Inc.",
         "sabra@uyetake.org",
         "Bridgewater",
         "USA",
         "NA",
         "Wilda",
         "Giguere"
        ],
        [
         95,
         "La Rochelle Gifts",
         "mmastella@mastella.com",
         "Nantes",
         "France",
         "EMEA",
         "Elvera",
         "Benimadho"
        ],
        [
         96,
         "Marta's Replicas Co.",
         "lnestle@hotmail.com",
         "Cambridge",
         "USA",
         "NA",
         "Carma",
         "Vanheusen"
        ],
        [
         97,
         "Toys of Finland Co.",
         "sabra@uyetake.org",
         "Helsinki",
         "Finland",
         "EMEA",
         "Malinda",
         "Hochard"
        ],
        [
         98,
         "Mini Classics",
         "mmastella@mastella.com",
         "White Plains",
         "USA",
         "NA",
         "Natalie",
         "Fern"
        ],
        [
         99,
         "Diecast Classics Inc.",
         "lisha@centini.org",
         "Allentown",
         "USA",
         "NA",
         "Lisha",
         "Centini"
        ],
        [
         100,
         "Land of Toys Inc.",
         "arlene_klusman@gmail.com",
         "NYC",
         "USA",
         "NA",
         "Arlene",
         "Klusman"
        ],
        [
         2,
         "Reims Collectables",
         "bob_new@example.com",
         "San Francisco",
         "France",
         "EMEA",
         "Josephine",
         "Darakjy"
        ],
        [
         3,
         "Lyon Souveniers",
         "charlie@example.com",
         "Chicago",
         "France",
         "EMEA",
         "Art",
         "Venere"
        ]
       ],
       "datasetInfos": [],
       "dbfsResultPath": null,
       "isJsonSchema": true,
       "metadata": {},
       "overflow": false,
       "plotOptions": {
        "customPlotOptions": {},
        "displayType": "table",
        "pivotAggregation": null,
        "pivotColumns": null,
        "xColumns": null,
        "yColumns": null
       },
       "removedWidgets": [],
       "schema": [
        {
         "metadata": "{}",
         "name": "CUSTOMERID",
         "type": "\"long\""
        },
        {
         "metadata": "{}",
         "name": "CUSTOMERNAME",
         "type": "\"string\""
        },
        {
         "metadata": "{}",
         "name": "EMAIL",
         "type": "\"string\""
        },
        {
         "metadata": "{}",
         "name": "CITY",
         "type": "\"string\""
        },
        {
         "metadata": "{}",
         "name": "COUNTRY",
         "type": "\"string\""
        },
        {
         "metadata": "{}",
         "name": "TERRITORY",
         "type": "\"string\""
        },
        {
         "metadata": "{}",
         "name": "CONTACTFIRSTNAME",
         "type": "\"string\""
        },
        {
         "metadata": "{}",
         "name": "CONTACTLASTNAME",
         "type": "\"string\""
        }
       ],
       "type": "table"
      }
     },
     "output_type": "display_data"
    },
    {
     "output_type": "stream",
     "name": "stdout",
     "output_type": "stream",
     "text": [
      "+----------+--------------------+--------------------+-------------+-------+---------+----------------+---------------+\n|CUSTOMERID|        CUSTOMERNAME|               EMAIL|         CITY|COUNTRY|TERRITORY|CONTACTFIRSTNAME|CONTACTLASTNAME|\n+----------+--------------------+--------------------+-------------+-------+---------+----------------+---------------+\n|         1|   Land of Toys Inc.|  gladys.rim@rim.org|          NYC|    USA|       NA|           James|           Butt|\n|         4|   Toys4GrownUps.com| bette_nicka@cox.net|     Pasadena|    USA|       NA|           Lenna|       Paprocki|\n|         5|Corporate Gift Id...|     vinouye@aol.com|San Francisco|    USA|       NA|         Donette|         Foller|\n|         6|Technics Stores Inc.|  gladys.rim@rim.org|   Burlingame|    USA|       NA|          Simona|        Morasca|\n|         7|Daedalus Designs ...|yuki_whobrey@aol.com|        Lille| France|     EMEA|          Mitsue|        Tollner|\n|         8|        Herkku Gifts|fletcher.flosi@ya...|       Bergen| Norway|     EMEA|           Leota|       Dilliard|\n|         9|     Mini Wheels Co.| bette_nicka@cox.net|San Francisco|    USA|       NA|            Sage|         Wieser|\n|        10|    Auto Canal Petit|     vinouye@aol.com|        Paris| France|     EMEA|            Kris|        Marrier|\n|        12|     Vitachrome Inc.|yuki_whobrey@aol.com|          NYC|    USA|       NA|            Abel|        Maclead|\n|        13|Tekni Collectable...|fletcher.flosi@ya...|       Newark|    USA|       NA|           Kiley|      Caldarera|\n|        14|     Gift Depot Inc.| bette_nicka@cox.net|  Bridgewater|    USA|       NA|        Graciela|           Ruta|\n|        15|   La Rochelle Gifts|     vinouye@aol.com|       Nantes| France|     EMEA|           Cammy|        Albares|\n|        16|Marta's Replicas Co.|  gladys.rim@rim.org|    Cambridge|    USA|       NA|          Mattie|       Poquette|\n|        17| Toys of Finland Co.|yuki_whobrey@aol.com|     Helsinki|Finland|     EMEA|         Meaghan|         Garufi|\n|        18|  Baane Mini Imports|fletcher.flosi@ya...|      Stavern| Norway|     EMEA|          Gladys|            Rim|\n|        19|Diecast Classics ...| bette_nicka@cox.net|    Allentown|    USA|       NA|            Yuki|        Whobrey|\n|        20|   Land of Toys Inc.|     vinouye@aol.com|          NYC|    USA|       NA|        Fletcher|          Flosi|\n|        21|Salzburg Collecta...| bette_nicka@cox.net|     Salzburg|Austria|     EMEA|           Bette|          Nicka|\n|        23|   La Rochelle Gifts|emerson.bowley@bo...|       Nantes| France|     EMEA|         Willard|        Kolmetz|\n|        24|    FunGiftIdeas.com|    bmalet@yahoo.com|  New Bedford|    USA|       NA|         Maryann|        Royster|\n+----------+--------------------+--------------------+-------------+-------+---------+----------------+---------------+\nonly showing top 20 rows\n"
     ]
    }
   ],
   "source": [
    "new_data = [\n",
    "    (2, \"bob_new@example.com\", \"San Francisco\"),  # update\n",
    "    (3, \"charlie@example.com\", \"Chicago\")         # insert\n",
    "]\n",
    "df_updates = spark.createDataFrame(new_data, [\"customer_id\", \"email\", \"city\"])\n",
    "df_updates.show()\n",
    "\n",
    "from delta.tables import DeltaTable\n",
    "\n",
    "# Load the Delta table by name\n",
    "deltaTable = DeltaTable.forName(spark, \"workspace.default.customers\")\n",
    "\n",
    "# Perform MERGE\n",
    "deltaTable.alias(\"t\").merge(\n",
    "    df_updates.alias(\"s\"),\n",
    "    \"t.CUSTOMERID = s.customer_id\"\n",
    ").whenMatchedUpdate(\n",
    "    set={\n",
    "        \"EMAIL\": \"s.email\",\n",
    "        \"CITY\": \"s.city\"\n",
    "    }\n",
    ").whenNotMatchedInsert(\n",
    "    values={\n",
    "        \"CUSTOMERID\": \"s.customer_id\",\n",
    "        \"EMAIL\": \"s.email\",\n",
    "        \"CITY\": \"s.city\"\n",
    "    }\n",
    ").execute()\n",
    "\n",
    "#results\n",
    "display(deltaTable.toDF())\n",
    "\n",
    "spark.sql(\"SELECT * FROM workspace.default.customers\").show()\n",
    "\n"
   ]
  }
 ],
 "metadata": {
  "application/vnd.databricks.v1+notebook": {
   "computePreferences": null,
   "dashboards": [],
   "environmentMetadata": {
    "base_environment": "",
    "environment_version": "3"
   },
   "inputWidgetPreferences": null,
   "language": "python",
   "notebookMetadata": {
    "pythonIndentUnit": 4
   },
   "notebookName": "Untitled Notebook 2025-09-09 07:17:11",
   "widgets": {}
  },
  "language_info": {
   "name": "python"
  }
 },
 "nbformat": 4,
 "nbformat_minor": 0
}